{
 "cells": [
  {
   "cell_type": "code",
   "execution_count": null,
   "metadata": {},
   "outputs": [],
   "source": [
    "filename = 'some_file.wav'"
   ]
  },
  {
   "cell_type": "code",
   "execution_count": null,
   "metadata": {},
   "outputs": [],
   "source": [
    "from matplotlib import pyplot as plt\n",
    "%matplotlib notebook\n",
    "\n",
    "from time import time, sleep"
   ]
  },
  {
   "cell_type": "code",
   "execution_count": null,
   "metadata": {},
   "outputs": [],
   "source": [
    "#!pip install soundfile\n",
    "\n",
    "import soundfile as sf\n",
    "t = time()\n",
    "data, samplerate = sf.read(filename) \n",
    "print('Execution time: {} ms'.format((time() - t)*1000))\n",
    "\n",
    "print(type(data))\n",
    "\n",
    "plt.plot(data)"
   ]
  },
  {
   "cell_type": "code",
   "execution_count": null,
   "metadata": {},
   "outputs": [],
   "source": [
    "import wave, struct\n",
    "obj = wave.open(filename,'r')\n",
    "print( \"Number of channels\",obj.getnchannels())\n",
    "print(\"Sample width\",obj.getsampwidth())\n",
    "print(\"Frame rate.\",obj.getframerate())\n",
    "print(\"Number of frames\",obj.getnframes())\n",
    "print(\"parameters:\",obj.getparams())\n",
    "\n",
    "length = obj.getnframes()\n",
    "for i in range(0, length):\n",
    "    wavedata = obj.readframes(1)\n",
    "    data = struct.unpack(\"<h\", wavedata)\n",
    "#     print(float(data[0]))"
   ]
  },
  {
   "cell_type": "code",
   "execution_count": null,
   "metadata": {},
   "outputs": [],
   "source": [
    "# ! pip install aubio\n",
    "import aubio\n",
    "src = aubio.source(filename)\n",
    "print(src.uri, src.samplerate, src.channels, src.duration, src.hop_size)\n",
    "\n",
    "src = aubio.source(filename, hop_size=src.duration)\n",
    "t = time()\n",
    "data = src()\n",
    "print('Execution time: {} ms'.format((time() - t)*1000))\n",
    "\n",
    "print(src.duration, src.hop_size)\n",
    "print(type(data[0]))\n"
   ]
  },
  {
   "cell_type": "code",
   "execution_count": null,
   "metadata": {},
   "outputs": [],
   "source": [
    "from scipy.io import wavfile\n",
    "\n",
    "t = time()\n",
    "fs, data = wavfile.read(filename)\n",
    "print('Execution time: {} ms'.format((time() - t)*1000))\n",
    "\n",
    "print(type(data))"
   ]
  }
 ],
 "metadata": {
  "kernelspec": {
   "display_name": "Python 3",
   "language": "python",
   "name": "python3"
  },
  "language_info": {
   "codemirror_mode": {
    "name": "ipython",
    "version": 3
   },
   "file_extension": ".py",
   "mimetype": "text/x-python",
   "name": "python",
   "nbconvert_exporter": "python",
   "pygments_lexer": "ipython3",
   "version": "3.6.3"
  }
 },
 "nbformat": 4,
 "nbformat_minor": 2
}
