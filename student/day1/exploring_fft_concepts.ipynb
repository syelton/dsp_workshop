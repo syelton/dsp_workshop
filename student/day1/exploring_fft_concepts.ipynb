{
 "cells": [
  {
   "cell_type": "code",
   "execution_count": null,
   "metadata": {},
   "outputs": [],
   "source": [
    "from scipy.io import wavfile\n",
    "from scipy.fft import fft, fftfreq, rfft, rfftfreq\n",
    "\n",
    "import numpy as np\n",
    "\n",
    "from matplotlib import pyplot as plt\n",
    "%matplotlib notebook\n"
   ]
  },
  {
   "cell_type": "code",
   "execution_count": null,
   "metadata": {},
   "outputs": [],
   "source": [
    "#this could just as easily been a separate .py file which could be imported, but I decided to define it here to serve as an easy reference\n",
    "import numpy as np # we don't actually need this import statement, but we would if it were a separate .py file\n",
    "def generate_tones(f_array=1000*np.ones(1), fs = 44100, n_samples=44100):\n",
    "    n = np.arange(0, n_samples-1)\n",
    "    t = n/fs\n",
    "\n",
    "    noise_power = 0.000005 * fs / 2\n",
    "    rng = np.random.default_rng()\n",
    "    noise = rng.normal(scale=np.sqrt(noise_power), size=t.shape)\n",
    "    \n",
    "    x = noise\n",
    "    for f in f_array: #how to incorporate ams_list here\n",
    "        x += np.sin(2*np.pi*f*t)\n",
    "    \n",
    "    return x,fs"
   ]
  },
  {
   "cell_type": "markdown",
   "metadata": {},
   "source": [
    "## The point of this lesson is to play with, and build intuition for fft resolution, and what defines it."
   ]
  },
  {
   "cell_type": "code",
   "execution_count": null,
   "metadata": {},
   "outputs": [],
   "source": [
    "y, fs = generate_tones(np.asarray([1000, 1002, 1004]), fs = 44100,  n_samples = 44100)\n",
    "\n",
    "Y = rfft(y)\n",
    "F = rfftfreq(len(y), 1/fs)\n",
    "\n",
    "print('NFFT = {} samples'.format(len(y)))\n",
    "print('time duration = {} seconds'.format(len(y)/fs))\n",
    "print('delta-F = {} Hz'.format(np.mean(np.diff(F))))\n",
    "\n",
    "ax = plt.subplots()\n",
    "plt.plot(F, np.abs(Y))\n",
    "plt.yscale('log')\n",
    "plt.xlim(990, 1010)"
   ]
  },
  {
   "cell_type": "code",
   "execution_count": null,
   "metadata": {},
   "outputs": [],
   "source": [
    "from scipy import signal\n",
    "\n",
    "y, fs = generate_tones(np.asarray([1000, 1002, 1004]), fs = 44100,  n_samples = 8*44100)\n",
    "\n",
    "f, t, Sxx = signal.spectrogram(y, fs, nperseg=44100)  # How does nperseg affect frequency resolution?\n",
    "\n",
    "print('delta-F = {} Hz'.format(np.mean(np.diff(F))))\n",
    "print('delta-t = {} seconds'.format(np.mean(np.diff(F)))\n",
    "ax = plt.subplots()\n",
    "plt.pcolormesh(t, f, Sxx, shading='gouraud')\n",
    "plt.ylabel('Frequency [Hz]')\n",
    "plt.xlabel('Time [sec]')\n",
    "plt.ylim(990, 1010)\n",
    "\n",
    "plt.show()"
   ]
  },
  {
   "cell_type": "markdown",
   "metadata": {},
   "source": [
    "## Also to explore:\n",
    "### Impulsive signals (e.g. where emphasis may be on time-domain resolution)\n",
    "### Filtering\n",
    "### Other cleaning method (e.g. \"squelch\")\n",
    "### Anything else..?"
   ]
  },
  {
   "cell_type": "code",
   "execution_count": null,
   "metadata": {},
   "outputs": [],
   "source": []
  }
 ],
 "metadata": {
  "kernelspec": {
   "display_name": "Python 3",
   "language": "python",
   "name": "python3"
  },
  "language_info": {
   "codemirror_mode": {
    "name": "ipython",
    "version": 3
   },
   "file_extension": ".py",
   "mimetype": "text/x-python",
   "name": "python",
   "nbconvert_exporter": "python",
   "pygments_lexer": "ipython3",
   "version": "3.6.3"
  }
 },
 "nbformat": 4,
 "nbformat_minor": 2
}
